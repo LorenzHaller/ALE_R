{
 "cells": [
  {
   "cell_type": "markdown",
   "metadata": {},
   "source": [
    "## Mini Training for using Accumulated Local Effects (ALE) Plots in R"
   ]
  },
  {
   "cell_type": "markdown",
   "metadata": {},
   "source": [
    "Accumulated local effects describe **how features influence the prediction of a machine learning model on average**. \n",
    "\n",
    "ALE plots are a faster and unbiased alternative to partial dependence plots (PDPs).\n",
    "\n",
    "**Motivation:** If features of a machine learning model are correlated, the partial dependence plot cannot be trusted.\n",
    "\n",
    "ALE plots solve this problem by calculating – also **based on the conditional distribution** of the features – differences in predictions instead of averages"
   ]
  },
  {
   "cell_type": "markdown",
   "metadata": {},
   "source": [
    "##### Load required packages"
   ]
  },
  {
   "cell_type": "code",
   "execution_count": null,
   "metadata": {},
   "outputs": [],
   "source": [
    "library(iml)\n",
    "library(randomForest)\n",
    "library(ggplot2)\n",
    "library(ALEPlot)\n",
    "library(corrplot)\n",
    "library(RColorBrewer)"
   ]
  },
  {
   "cell_type": "markdown",
   "metadata": {},
   "source": [
    "##### Load and prepare data sets"
   ]
  },
  {
   "cell_type": "markdown",
   "metadata": {},
   "source": [
    "We use the 'Car Insurance Cold Calls' data set from Kaggle (https://www.kaggle.com/kondla/carinsurance), which has already been splitted into training and validation data sets."
   ]
  },
  {
   "cell_type": "code",
   "execution_count": null,
   "metadata": {},
   "outputs": [],
   "source": [
    "X_train = read.csv(\"X_train.csv\", header = T, sep = \",\")\n",
    "X_valid = read.csv(\"X_valid.csv\", header = T, sep = \",\")\n",
    "y_train = read.csv(\"y_train.csv\", header = F, sep = \",\")\n",
    "y_valid = read.csv(\"y_valid.csv\", header = F, sep = \",\")"
   ]
  },
  {
   "cell_type": "code",
   "execution_count": null,
   "metadata": {},
   "outputs": [],
   "source": [
    "colnames(y_train) = colnames(y_valid) = c(\"Id\",\"CarInsurance\")"
   ]
  },
  {
   "cell_type": "code",
   "execution_count": null,
   "metadata": {},
   "outputs": [],
   "source": [
    "train = cbind(X_train, y_train$CarInsurance)\n",
    "colnames(train)[36] = \"CarInsurance\"\n",
    "train = train[,-1]"
   ]
  },
  {
   "cell_type": "code",
   "execution_count": null,
   "metadata": {},
   "outputs": [],
   "source": [
    "train$CarInsurance <- as.factor(as.character(train$CarInsurance))"
   ]
  },
  {
   "cell_type": "markdown",
   "metadata": {},
   "source": [
    "#### Correlations in the data"
   ]
  },
  {
   "cell_type": "markdown",
   "metadata": {},
   "source": [
    "As the occurance of correlations in the data makes a difference for the applied methods, we want to have a look at them first."
   ]
  },
  {
   "cell_type": "code",
   "execution_count": null,
   "metadata": {},
   "outputs": [],
   "source": [
    "M <-cor(X_train)\n",
    "corrplot(M, type=\"upper\", order=\"hclust\",\n",
    "         col=brewer.pal(n=8, name=\"RdYlBu\"))"
   ]
  },
  {
   "cell_type": "markdown",
   "metadata": {},
   "source": [
    "We want to have a closer look at the correlations of the features 'Age' and 'Balance' as we will look at their ALE and PDP Plots below.\n",
    "\n",
    "For 'Age', we see a stronger positive correlation (between 0.5 and 0.75) to 'Job_retired', as people are more likely to retire with a higher age. In addition, age is correlated to the marital status: We see a negative correlation between 'Age' and 'MartialStatus_single' and a positive correlation between 'Age' and 'MaritalStatus_married', which both makes sense as older people are more likely to be in a relationship or married. \n",
    "\n",
    "For 'Balance', no noteworthy correlations can be seen."
   ]
  },
  {
   "cell_type": "markdown",
   "metadata": {},
   "source": [
    "Due to these insights, we expect the ALE and Partial Dependence Plot to be quite similar for the 'Balance' feature. As we have seen correlations between age and other features, differences in the ALE Plot and PDP may occur, as ALE Plots are reflecting these correlations whereas PDP do not."
   ]
  },
  {
   "cell_type": "markdown",
   "metadata": {},
   "source": [
    "##### Train a Random Forest Model"
   ]
  },
  {
   "cell_type": "code",
   "execution_count": null,
   "metadata": {},
   "outputs": [],
   "source": [
    "rf = randomForest(CarInsurance ~ ., data = train, ntree = 100)"
   ]
  },
  {
   "cell_type": "markdown",
   "metadata": {},
   "source": [
    "##### Prepare data for iml and create 'predictor'"
   ]
  },
  {
   "cell_type": "code",
   "execution_count": null,
   "metadata": {},
   "outputs": [],
   "source": [
    "X = train[which(names(train) != \"CarInsurance\")]"
   ]
  },
  {
   "cell_type": "markdown",
   "metadata": {},
   "source": [
    "### ALE and PDP using the 'iml'-package"
   ]
  },
  {
   "cell_type": "code",
   "execution_count": null,
   "metadata": {
    "scrolled": true
   },
   "outputs": [],
   "source": [
    "predictor = Predictor$new(rf, data = X, y = train$CarInsurance)"
   ]
  },
  {
   "cell_type": "markdown",
   "metadata": {},
   "source": [
    "The 'iml' package offers a possibility to **measure how strongly features interact with each other**. The interaction measure regards how much of the variance of $f(x)$ is explained by the interaction."
   ]
  },
  {
   "cell_type": "code",
   "execution_count": null,
   "metadata": {},
   "outputs": [],
   "source": [
    "interact = Interaction$new(predictor)\n",
    "plot(interact)"
   ]
  },
  {
   "cell_type": "markdown",
   "metadata": {},
   "source": [
    "Here, for 'Balance' the overall interaction strength seems to by higher than expected after just looking at all pairwise correlaions and is even higher than for 'Age'. Altogether interactions seem to play a role for both features."
   ]
  },
  {
   "cell_type": "markdown",
   "metadata": {},
   "source": [
    "##### Create ALE and PDP plots for feature 'Age'"
   ]
  },
  {
   "cell_type": "code",
   "execution_count": null,
   "metadata": {},
   "outputs": [],
   "source": [
    "ale = FeatureEffect$new(predictor = predictor, feature = \"Age\" , method = \"ale\")\n",
    "\n",
    "plot(ale) + xlim(0,75)"
   ]
  },
  {
   "cell_type": "markdown",
   "metadata": {},
   "source": [
    "The ALE plot shows a rather high predicted probability of for buying car insurance for young people at the age of 18-20. The probability then continuosly decreases until it reaches it minimum at the age of 30. From then on, the probability increases almost constantly until the age of 60, where people seem to be most likely to buy car insurance."
   ]
  },
  {
   "cell_type": "code",
   "execution_count": null,
   "metadata": {},
   "outputs": [],
   "source": [
    "pdp = FeatureEffect$new(predictor = predictor, feature = \"Age\" , method = \"pdp\")\n",
    "plot(pdp)"
   ]
  },
  {
   "cell_type": "markdown",
   "metadata": {},
   "source": [
    "The Partial Dependence Plot shows a shightly. different effect. Here, the predicted probability also decreases from the age of 20 to the age of 30, but then only slightly increases until the age of 55. Then, a massive increase happens until the age of 60, which by far shows the highest probability of buying car insurance. Then, it slightly decreases again."
   ]
  },
  {
   "cell_type": "markdown",
   "metadata": {},
   "source": [
    "Considering interactions by using ALE Plots instead of PD Plots indicate that the effect of the age on the predicted probability of buying car insurance rather constantly increases between the ages of 30 and 60 and does not show such a sudden strong increase as the PDP show."
   ]
  },
  {
   "cell_type": "markdown",
   "metadata": {},
   "source": [
    "##### Create ALE and PDP plots for feature 'Balance'"
   ]
  },
  {
   "cell_type": "code",
   "execution_count": null,
   "metadata": {},
   "outputs": [],
   "source": [
    "ale = FeatureEffect$new(predictor = predictor, feature = \"Balance\" , method = \"ale\")\n",
    "plot(ale) + scale_x_continuous(limits=c(0,8000))"
   ]
  },
  {
   "cell_type": "code",
   "execution_count": null,
   "metadata": {},
   "outputs": [],
   "source": [
    "pdp = FeatureEffect$new(predictor = predictor, feature = \"Balance\" , method = \"pdp\")\n",
    "plot(pdp) + scale_x_continuous(limits=c(0,8000))"
   ]
  },
  {
   "cell_type": "markdown",
   "metadata": {},
   "source": [
    "### ALE and PDP Plots using the 'ALEPlot' package"
   ]
  },
  {
   "cell_type": "markdown",
   "metadata": {},
   "source": [
    "#### Create a prediction function"
   ]
  },
  {
   "cell_type": "code",
   "execution_count": null,
   "metadata": {},
   "outputs": [],
   "source": [
    "yhat <- function(X.model, newdata) as.numeric(predict(X.model, newdata))"
   ]
  },
  {
   "cell_type": "markdown",
   "metadata": {},
   "source": [
    "#### Create ALE and PDP plots for feature 'Age'"
   ]
  },
  {
   "cell_type": "code",
   "execution_count": null,
   "metadata": {},
   "outputs": [],
   "source": [
    "ALEPlot(X, rf, yhat, J=30, K=50, NA.plot = TRUE)"
   ]
  },
  {
   "cell_type": "markdown",
   "metadata": {},
   "source": [
    "The ALE plot shows a rather low predicted probability for buying car insurance for young people, which continuosly decreases until it reaches it minimum at the age of 35. From then on, the probability increases almost constantly until the age of 60, with very strong increases between 57 and 65. Overall people around the age of 60 seem to be most likely to buy car insurance."
   ]
  },
  {
   "cell_type": "code",
   "execution_count": null,
   "metadata": {},
   "outputs": [],
   "source": [
    "PDPlot(X, rf, yhat, J=30, K=50)"
   ]
  },
  {
   "cell_type": "markdown",
   "metadata": {},
   "source": [
    "The PD plot shows a quite similar trend. The predicted probability for buying car insurance for young people is already rather small, but continuosly decreases until it reaches it minimum at the age of 30. Then the probability remains almost constantly low until the age of 60, where a huge increase happens until the age of around 65, where it reaches its maximum."
   ]
  },
  {
   "cell_type": "markdown",
   "metadata": {},
   "source": [
    "The main difference between the PD and the ALE Plot is that for the ALE Plot the initial probability for people at age 18 is already a bit lower and after the decrease until the age of 35 it continuously increases again, whereas in the ALE Plot the probability remains very low between the ages of 30 and 60 and then increases rapidly."
   ]
  },
  {
   "cell_type": "markdown",
   "metadata": {},
   "source": [
    "As the age shows a quite large interaction strength, these differences between the ALE and PD Plot are likely a results of interactions, which are covered in the ALE Plot but not in the Partial Dependence Plot."
   ]
  },
  {
   "cell_type": "markdown",
   "metadata": {},
   "source": [
    "#### Create ALE and PDP plots for feature 'Balance'"
   ]
  },
  {
   "cell_type": "code",
   "execution_count": null,
   "metadata": {},
   "outputs": [],
   "source": [
    "ALEPlot(X, rf, yhat, J=31, K=50, NA.plot = TRUE)"
   ]
  },
  {
   "cell_type": "code",
   "execution_count": null,
   "metadata": {},
   "outputs": [],
   "source": [
    "PDPlot(X, rf, yhat, J=31, K=50)"
   ]
  },
  {
   "cell_type": "code",
   "execution_count": null,
   "metadata": {},
   "outputs": [],
   "source": []
  },
  {
   "cell_type": "code",
   "execution_count": null,
   "metadata": {},
   "outputs": [],
   "source": []
  }
 ],
 "metadata": {
  "kernelspec": {
   "display_name": "R",
   "language": "R",
   "name": "ir"
  },
  "language_info": {
   "codemirror_mode": "r",
   "file_extension": ".r",
   "mimetype": "text/x-r-source",
   "name": "R",
   "pygments_lexer": "r",
   "version": "3.6.1"
  }
 },
 "nbformat": 4,
 "nbformat_minor": 2
}
